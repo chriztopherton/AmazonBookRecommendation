{
  "cells": [
    {
      "cell_type": "markdown",
      "metadata": {
        "id": "92N_55je37DH"
      },
      "source": [
        "\n",
        "\n",
        "*  https://snap.stanford.edu/data/com-Amazon.html\n",
        "*  https://cseweb.ucsd.edu/~jmcauley/datasets/amazon_v2/\n",
        "*   https://datarepo.eng.ucsd.edu/mcauley_group/data/amazon_v2/categoryFiles/\n",
        "\n",
        "*   https://advaitiyer.github.io/dsml/2020-01-03-adm/\n",
        "\n",
        "* https://github.com/Advaitiyer/advanced-data-mining/blob/master/Project/aiyer01_ADM_Project_Code.ipynb\n",
        "*   https://medium.com/@kumari01priyanka/ucsd-amazon-product-dataset-2018-e7613d5145b0\n",
        "\n",
        "*   https://programminghistorian.org/en/lessons/exploring-and-analyzing-network-data-with-python\n",
        "\n",
        "*   https://github.com/soumen7saha/Network-Analysis-on-Amazon-CoPurchasing-Data/blob/main/Data%20Preprocessing%20%26%20Analysis/Data%20Preprocessing%20-%20Filtering%20Books.ipynb\n",
        "*   https://www.slideshare.net/PadmaShneha/3-amazoncopurchasing-networkscnt5805research-project31pptx-228920750\n",
        "\n",
        "*   https://rpubs.com/Ericyang95/481280\n",
        "\n",
        "\n",
        "*   https://haoyingy.github.io/home/projects/Amazon-co-purchase.html\n",
        "*   https://www.kaggle.com/code/idksmthnggood/market-basket-analysis\n",
        "\n",
        "\n",
        "\n",
        "*   https://www.kaggle.com/code/yclaudel/recommendation-engine-with-networkx/notebook\n",
        "*   https://towardsdatascience.com/building-a-graph-based-grocery-recommender-in-dash-on-aws-3d96d262e365\n",
        "\n",
        "\n",
        "\n",
        "*   https://jalammar.github.io/illustrated-word2vec/\n",
        "*   https://github.com/NeilSinclair/GroceryNetwork/blob/master/Basket%20Network%20Analysis-DeepWalk.ipynb\n",
        "\n",
        "\n",
        "\n",
        "*   https://realpython.com/build-recommendation-engine-collaborative-filtering/\n",
        "*   https://www.toptal.com/data-science/graph-data-science-python-networkx\n",
        "\n",
        "\n",
        "\n",
        "*   https://towardsdatascience.com/deepwalk-its-behavior-and-how-to-implement-it-b5aac0290a15\n",
        "*   List item\n",
        "\n",
        "\n",
        "\n",
        "\n",
        "\n",
        "\n",
        "\n",
        "\n",
        "\n",
        "\n",
        "\n",
        "\n",
        "\n",
        "\n"
      ]
    },
    {
      "cell_type": "code",
      "execution_count": null,
      "metadata": {
        "id": "a6vXu6uVhdJw"
      },
      "outputs": [],
      "source": [
        "!pip install pyspark stemming sparknlp\n",
        "import nltk\n",
        "nltk.download('stopwords')"
      ]
    },
    {
      "cell_type": "code",
      "execution_count": null,
      "metadata": {
        "colab": {
          "base_uri": "https://localhost:8080/"
        },
        "id": "QbHqyhmhgnLo",
        "outputId": "f05d53ec-6f5b-4038-81c6-178c52cb6426"
      },
      "outputs": [
        {
          "output_type": "stream",
          "name": "stdout",
          "text": [
            "Mounted at /content/drive\n"
          ]
        }
      ],
      "source": [
        "from google.colab import drive\n",
        "\n",
        "drive.mount('/content/drive')"
      ]
    },
    {
      "cell_type": "code",
      "execution_count": null,
      "metadata": {
        "colab": {
          "base_uri": "https://localhost:8080/"
        },
        "id": "yOMfboEqgxFx",
        "outputId": "00146ebd-4323-4736-e2fe-7ec6852978f9"
      },
      "outputs": [
        {
          "output_type": "stream",
          "name": "stdout",
          "text": [
            "/content/drive/Shareddrives/DATA 245 Team 6/Datasets\n",
            " amazon-books-copurchase.edgelist   books_clustering_coeff.txt   \u001b[0m\u001b[01;34mMovie_TV\u001b[0m/\n",
            " amazon-meta.txt                    books_dict.json              \u001b[01;34mrapidsai-csp-utils\u001b[0m/\n",
            " amazon_products.pickle             books_preprocessed.csv       \u001b[01;34mtrain_241_books_summary_review_db\u001b[0m/\n",
            " Books_5.json.gz                    Books_rating_category.json   \u001b[01;34mtrain_269_books_summary_review_db\u001b[0m/\n",
            " books_amzn_meta.csv               'Dataset Links.gdoc'          \u001b[01;34mtrain_59_books_summary_review_db\u001b[0m/\n"
          ]
        }
      ],
      "source": [
        "## Make sure to create a new folder and change to your own directory\n",
        "%cd /content/drive/Shareddrives/'DATA 245 Team 6'/Datasets/\n",
        "%ls\n"
      ]
    },
    {
      "cell_type": "markdown",
      "source": [
        "## Import packages"
      ],
      "metadata": {
        "id": "BOKeEDN_Edo7"
      }
    },
    {
      "cell_type": "code",
      "execution_count": null,
      "metadata": {
        "id": "J_EXuxMFg2hl"
      },
      "outputs": [],
      "source": [
        "# Pre-processing\n",
        "import glob\n",
        "import random\n",
        "import re\n",
        "import nltk\n",
        "from stemming.porter2 import stem\n",
        "from nltk.corpus import stopwords\n",
        "import string\n",
        "\n",
        "# Spectral clustering\n",
        "import numpy as np\n",
        "import pandas as pd\n",
        "import csv\n",
        "import sklearn\n",
        "from sklearn import cluster\n",
        "import networkx as nx\n",
        "import scipy\n",
        "from scipy.sparse.linalg import eigs, eigsh\n",
        "import matplotlib\n",
        "from matplotlib import pylab\n",
        "from matplotlib import pyplot as plt\n",
        "\n",
        "# Community detection\n",
        "import json\n",
        "\n",
        "# Progress bar\n",
        "from tqdm import tqdm\n",
        "from time import sleep\n",
        "\n",
        "import pickle\n",
        "\n",
        "import os\n",
        "import json\n",
        "import gzip\n",
        "from urllib.request import urlopen\n",
        "\n",
        "from wordcloud import WordCloud, STOPWORDS, ImageColorGenerator\n",
        "stopwords = set(STOPWORDS)\n",
        "\n",
        "\n",
        "from pyspark.ml import Pipeline\n",
        "from pyspark.ml.feature import StringIndexer, VectorAssembler, StandardScaler, HashingTF, IDF, CountVectorizer\n",
        "from pyspark.ml.classification import RandomForestClassifier, LogisticRegression\n",
        "from pyspark.ml.linalg import Vectors, VectorUDT\n",
        "from pyspark.ml.evaluation import BinaryClassificationEvaluator\n",
        "from pyspark.ml.functions import array_to_vector\n",
        "from pyspark.mllib.evaluation import MulticlassMetrics\n",
        "\n",
        "import pyspark.sql.functions as F\n",
        "from pyspark.sql import types as T\n",
        "from pyspark.sql import SparkSession\n",
        "from pyspark.sql.types import StructType, StructField, IntegerType, ArrayType, DoubleType\n",
        "from pyspark.sql.functions import length\n",
        "\n",
        "# Spark NLP\n",
        "import sparknlp\n",
        "from sparknlp.annotator import *\n",
        "from sparknlp.common import *\n",
        "from sparknlp.base import *\n",
        "from wordcloud import WordCloud, STOPWORDS, ImageColorGenerator\n",
        "stopwords = set(STOPWORDS)\n",
        "from pyspark.ml import Pipeline"
      ]
    },
    {
      "cell_type": "code",
      "execution_count": null,
      "metadata": {
        "id": "I9s8LB8qhkGZ"
      },
      "outputs": [],
      "source": [
        "filepath = glob.glob(\"./amazon-meta.txt*\")\n",
        "fil = filepath[0]\n",
        "text = open(fil,'r',encoding='utf-8',errors='ignore')"
      ]
    },
    {
      "cell_type": "markdown",
      "source": [
        "## Helpers"
      ],
      "metadata": {
        "id": "l8UM0BmeDh0U"
      }
    },
    {
      "cell_type": "code",
      "execution_count": null,
      "metadata": {
        "id": "8CoQnYyZhwOT"
      },
      "outputs": [],
      "source": [
        "amazon = {}\n",
        "# Declaring the tuple of various feature values\n",
        "(Id, ASIN, title, categories, group, connections, salesrank, tot_reviews, avg_rating, degree_centrality, clustering_coeff) = (\"\",\"\",\"\",\"\",\"\",\"\", 0, 0, 0.0, 0, 0.0)\n",
        "\n",
        "with open(fil,'r',encoding='utf-8',errors='ignore') as text:\n",
        "  for line in text:\n",
        "      line = line.strip()\n",
        "      # Strip ID\n",
        "      if(line.startswith(\"Id\")):\n",
        "          Id = line[3:].strip()\n",
        "      # Strip ASIN, which is the node\n",
        "      elif(line.startswith(\"ASIN\")):\n",
        "          ASIN = line[5:].strip()\n",
        "      # Strip Title\n",
        "      elif(line.startswith(\"title\")):\n",
        "          title = line[6:].strip()\n",
        "          title = ' '.join(title.split())\n",
        "      # Strip Group\n",
        "      elif(line.startswith(\"group\")):\n",
        "          group = line[6:].strip()\n",
        "      # Strip sales rank\n",
        "      elif(line.startswith(\"salesrank\")):\n",
        "          salesrank = line[10:]\n",
        "      # Strip similar, which are the connections\n",
        "      elif(line.startswith(\"similar\")):\n",
        "          a = line.split()\n",
        "          connections = ' '.join([i for i in a[2:]])\n",
        "      # Strip categories\n",
        "      elif(line.startswith(\"categories\")):\n",
        "          b = line.split()\n",
        "          # Converted to lowercase\n",
        "          categories = ' '.join((text.readline()).lower() for i in range(int(b[1].strip())))\n",
        "          # Remove punctuations\n",
        "          categories = re.compile('[%s]' % re.escape(string.digits + string.punctuation)).sub(' ', categories)\n",
        "          # Remove stopwords\n",
        "          categories = ' '.join(set(categories.split()) - set(stopwords.words('english')))\n",
        "          # Concatenate the words\n",
        "          categories = ' '.join(stem(word) for word in categories.split())\n",
        "      # Count the reviews, and average rating\n",
        "      elif(line.startswith(\"reviews\")):\n",
        "          c = line.split()\n",
        "          tot_reviews = c[2].strip()\n",
        "          avg_rating = c[7].strip()\n",
        "      # Handling the exception for cases where instances are missing\n",
        "      elif(line==\"\"):\n",
        "          try:\n",
        "              exception = {}\n",
        "              if(ASIN!=\"\"):\n",
        "                  amazon[ASIN] = exception\n",
        "              exception['Id'] = Id\n",
        "              exception['title'] = title\n",
        "              exception['group'] = group\n",
        "              exception['categories'] = ' '.join(set(categories.split()))\n",
        "              exception['connections'] = connections\n",
        "              exception['salesrank'] = int(salesrank)\n",
        "              #exception['similar'] = ' '.join(set(connections.split()))\n",
        "              exception['tot_reviews'] = int(tot_reviews)\n",
        "              exception['avg_rating'] = float(avg_rating)\n",
        "              exception['degree_centrality'] = degree_centrality\n",
        "              exception['clustering_coeff'] = clustering_coeff\n",
        "          except NameError:\n",
        "              continue\n",
        "          (Id, ASIN, title, categories, group, connections, salesrank, tot_reviews, avg_rating, degree_centrality, clustering_coeff) = (\"\",\"\",\"\",\"\",\"\",\"\", 0, 0, 0.0, 0, 0.0)\n",
        "\n",
        "# with open('amazon_products.pickle', 'wb') as handle:\n",
        "#     pickle.dump(amazon, handle, protocol=pickle.HIGHEST_PROTOCOL)"
      ]
    },
    {
      "cell_type": "code",
      "source": [
        "with open('amazon_products.pickle', 'wb') as handle:\n",
        "    pickle.dump(amazon, handle, protocol=pickle.HIGHEST_PROTOCOL)"
      ],
      "metadata": {
        "id": "reneQEKfyA2K"
      },
      "execution_count": null,
      "outputs": []
    },
    {
      "cell_type": "code",
      "source": [
        "%ls"
      ],
      "metadata": {
        "colab": {
          "base_uri": "https://localhost:8080/"
        },
        "id": "Bt6HPYU-yFDC",
        "outputId": "034342e4-723f-4c56-cd9c-a1d7bb8523cb"
      },
      "execution_count": null,
      "outputs": [
        {
          "output_type": "stream",
          "name": "stdout",
          "text": [
            " amazon-meta.txt          Books_5.json.gz       Books_rating_category.json\n",
            " amazon_products.pickle   books_amzn_meta.csv  'Dataset Links.gdoc'\n"
          ]
        }
      ]
    },
    {
      "cell_type": "code",
      "source": [
        "def product_df(amzn,grp):\n",
        "  prod = {}\n",
        "  for key, value in amzn.items():\n",
        "    # Check for the case where value is \"Music\", and only then choose\n",
        "      if(value['group'] == grp):\n",
        "          prod[key] = amzn[key]\n",
        "\n",
        "  # Join the connections\n",
        "  for key, value in prod.items():\n",
        "      prod[key]['connections'] = ' '.join([connection for connection in value['connections'].split() if connection in prod.keys()])\n",
        "\n",
        "  # Convert to dataframe\n",
        "  prod_df = pd.DataFrame.from_dict(prod)\n",
        "  prod_df = prod_df.transpose()\n",
        "\n",
        "  return prod,prod_df"
      ],
      "metadata": {
        "id": "Y9CieZ6fD4X1"
      },
      "execution_count": null,
      "outputs": []
    },
    {
      "cell_type": "markdown",
      "source": [
        "## Export and import files"
      ],
      "metadata": {
        "id": "aDWQ8zUrDmYy"
      }
    },
    {
      "cell_type": "code",
      "source": [
        "with open('amazon_products.pickle', 'rb') as handle:\n",
        "    amzn = pickle.load(handle)"
      ],
      "metadata": {
        "id": "QwAB2wUUvuLR"
      },
      "execution_count": null,
      "outputs": []
    },
    {
      "cell_type": "code",
      "source": [
        "# meta_df = pd.DataFrame(amzn).T\n",
        "# meta_df.query(\"group in ('Book','DVD','Video','Music')\").groupby('group').size().plot.bar()"
      ],
      "metadata": {
        "id": "rW3kYysAUGGN"
      },
      "execution_count": null,
      "outputs": []
    },
    {
      "cell_type": "code",
      "execution_count": null,
      "metadata": {
        "id": "YwlFT_-th3i2"
      },
      "outputs": [],
      "source": [
        "# Subset of music products in the dataset\n",
        "# music = product_df(\"Music\")\n",
        "# len(music) #103144"
      ]
    },
    {
      "cell_type": "code",
      "execution_count": null,
      "metadata": {
        "id": "GNghdPPykAv0",
        "colab": {
          "base_uri": "https://localhost:8080/"
        },
        "outputId": "11b5d2d3-ced7-4086-e64c-7c441c07223a"
      },
      "outputs": [
        {
          "output_type": "execute_result",
          "data": {
            "text/plain": [
              "393561"
            ]
          },
          "metadata": {},
          "execution_count": 11
        }
      ],
      "source": [
        "# Subset of books\n",
        "books_dict,books = product_df(amzn, \"Book\")\n",
        "len(books) #393561\n",
        "\n",
        "#books.to_csv(\"books_amzn_meta.csv\")"
      ]
    },
    {
      "cell_type": "code",
      "source": [
        "%pwd"
      ],
      "metadata": {
        "colab": {
          "base_uri": "https://localhost:8080/",
          "height": 35
        },
        "id": "UWgT8VF0Vcq9",
        "outputId": "9034da71-01b3-4f93-d743-6fbf7e33fff1"
      },
      "execution_count": null,
      "outputs": [
        {
          "output_type": "execute_result",
          "data": {
            "text/plain": [
              "'/content/drive/Shareddrives/DATA 245 Team 6/Datasets'"
            ],
            "application/vnd.google.colaboratory.intrinsic+json": {
              "type": "string"
            }
          },
          "metadata": {},
          "execution_count": 18
        }
      ]
    },
    {
      "cell_type": "code",
      "source": [
        "books_meta = pd.read_csv(\"/content/drive/Shareddrives/DATA 245 Team 6/Datasets/books_amzn_meta.csv\").rename(columns={'Unnamed: 0':\"asin\"})"
      ],
      "metadata": {
        "id": "13ttB6jdVEqe"
      },
      "execution_count": null,
      "outputs": []
    },
    {
      "cell_type": "code",
      "source": [
        "books_meta.head()"
      ],
      "metadata": {
        "id": "qZ5o6eyEGcJC"
      },
      "execution_count": null,
      "outputs": []
    },
    {
      "cell_type": "code",
      "source": [
        "books_dict"
      ],
      "metadata": {
        "id": "M6TnwdzoVJFf"
      },
      "execution_count": null,
      "outputs": []
    },
    {
      "cell_type": "code",
      "source": [
        "#books_meta = books_meta.drop('similar',axis=1)"
      ],
      "metadata": {
        "id": "llSVVoCrzWS_"
      },
      "execution_count": null,
      "outputs": []
    },
    {
      "cell_type": "code",
      "execution_count": null,
      "metadata": {
        "id": "z1qREhigqVqX"
      },
      "outputs": [],
      "source": [
        "# Subset of Video\n",
        "# video = product_df(\"Video\")\n",
        "# len(video) #26131"
      ]
    },
    {
      "cell_type": "code",
      "execution_count": null,
      "metadata": {
        "id": "3ez8Hy51b5oD"
      },
      "outputs": [],
      "source": [
        "# Subset of DVD\n",
        "# dvd = product_df(\"DVD\")\n",
        "# len(dvd) #19828"
      ]
    },
    {
      "cell_type": "code",
      "execution_count": null,
      "metadata": {
        "id": "ir0oh_vkuxSP"
      },
      "outputs": [],
      "source": [
        "\n",
        "\n",
        "# ### load the meta data\n",
        "# array= []\n",
        "# count = 1\n",
        "\n",
        "# # Create a JSON file to store the extracted data\n",
        "# jsonFile = open(\"./Books_rating_category.json\", \"w\")\n",
        "# jsonFile.write(\"[\") # Opening bracket to denote a list of JSON objects\n",
        "\n",
        "# # Open the gzipped file and extract the required fields\n",
        "# with gzip.open('Books_5.json.gz') as f:\n",
        "#     for l in f:\n",
        "#         # Load each line as a JSON object\n",
        "#         d = json.loads(l.strip())\n",
        "\n",
        "#         # Check if the required fields are present in the JSON object\n",
        "#         if 'reviewText' in d and 'asin' in d and 'overall' in d and 'reviewerID' in d and 'summary' in d:\n",
        "#             et_dict = {\"asin\":  d[\"asin\"],\n",
        "#                         \"overall\" : d[\"overall\"],\n",
        "#                         \"reviewText\" : d[\"reviewText\"],\n",
        "#                         \"reviewerID\" : d[\"reviewerID\"],\n",
        "#                         \"summary\" : d[\"summary\"],}\n",
        "#             # Append the extracted fields to the array\n",
        "#             array.append(et_dict)\n",
        "#             # Convert the dictionary to a JSON string\n",
        "#             jsonString = json.dumps(et_dict)+\",\\n\"\n",
        "#             # Write the JSON string to the file\n",
        "#             jsonFile.write(jsonString)\n",
        "\n",
        "# # Closing bracket to denote the end of the list of JSON objects\n",
        "# jsonFile.write(\"]\")\n",
        "# # Close the JSON file\n",
        "# jsonFile.close()"
      ]
    },
    {
      "cell_type": "markdown",
      "source": [
        "## PySpark processing"
      ],
      "metadata": {
        "id": "wrM5qLOzGd4q"
      }
    },
    {
      "cell_type": "code",
      "source": [
        "from pyspark.sql import SparkSession\n",
        "\n",
        "# create a SparkSession\n",
        "spark = SparkSession.builder.appName(\"booksSpark\").getOrCreate()\n"
      ],
      "metadata": {
        "id": "kDNzinYbsOI5"
      },
      "execution_count": null,
      "outputs": []
    },
    {
      "cell_type": "code",
      "source": [
        "#spark.stop()"
      ],
      "metadata": {
        "id": "ZmAwzVC-btQJ"
      },
      "execution_count": null,
      "outputs": []
    },
    {
      "cell_type": "code",
      "source": [
        "%pwd"
      ],
      "metadata": {
        "colab": {
          "base_uri": "https://localhost:8080/",
          "height": 36
        },
        "id": "nqs8OfI6A_j3",
        "outputId": "789aaa63-573e-4e0c-9df5-c5c4958d8ba4"
      },
      "execution_count": null,
      "outputs": [
        {
          "output_type": "execute_result",
          "data": {
            "text/plain": [
              "'/content/drive/Shareddrives/DATA 245 Team 6/Datasets'"
            ],
            "application/vnd.google.colaboratory.intrinsic+json": {
              "type": "string"
            }
          },
          "metadata": {},
          "execution_count": 22
        }
      ]
    },
    {
      "cell_type": "code",
      "source": [
        "# read a JSON file into a DataFrame\n",
        "df = spark.read.json(\"/content/drive/Shareddrives/DATA 245 Team 6/Datasets/Books_rating_category.json\")\n",
        "\n",
        "# show the first 10 rows of the DataFrame\n",
        "df.show(10)"
      ],
      "metadata": {
        "colab": {
          "base_uri": "https://localhost:8080/"
        },
        "id": "pekInMF5bPQJ",
        "outputId": "c65795a4-8f67-48cd-8760-685802a1e5e9"
      },
      "execution_count": null,
      "outputs": [
        {
          "output_type": "stream",
          "name": "stdout",
          "text": [
            "+--------------------+----------+-------+--------------------+--------------+--------------------+\n",
            "|     _corrupt_record|      asin|overall|          reviewText|    reviewerID|             summary|\n",
            "+--------------------+----------+-------+--------------------+--------------+--------------------+\n",
            "|[{\"asin\": \"000171...|      NULL|   NULL|                NULL|          NULL|                NULL|\n",
            "|                NULL|0001713353|    5.0|  The kids loved it!| AVP0HXC9FG790|          Five Stars|\n",
            "|                NULL|0001713353|    5.0|My students (3 & ...|A324TTUBKTN73A|          Five Stars|\n",
            "|                NULL|0001713353|    5.0|             LOVE IT|A2RE7WG349NV5D|          Five Stars|\n",
            "|                NULL|0001713353|    5.0|              Great!|A32B7QIUDQCD0E|          Five Stars|\n",
            "|                NULL|0001713353|    5.0|Over and over the...|A3H9YD6K9TVKDP|       Not Nice Mice|\n",
            "|                NULL|0001713353|    5.0|I remember readin...| A3M314LI9OYME|One of my favorit...|\n",
            "|                NULL|0001713353|    5.0|I am very happy w...|A1YDQQJDRHM0FJ|One of our famili...|\n",
            "|                NULL|0001713353|    5.0|My copy is so tat...| AHXMDCU0N15TN|probably my favor...|\n",
            "|                NULL|0001713353|    5.0|This was one of m...|A2M46WTE5TR5WN|          A Favorite|\n",
            "+--------------------+----------+-------+--------------------+--------------+--------------------+\n",
            "only showing top 10 rows\n",
            "\n"
          ]
        }
      ]
    },
    {
      "cell_type": "code",
      "source": [
        "books_meta = pd.read_csv(\"books_preprocessed.csv\").rename(columns={'Unnamed: 0':'asin'}).drop('degree_centrality',axis=1)\n",
        "books_meta.columns"
      ],
      "metadata": {
        "colab": {
          "base_uri": "https://localhost:8080/"
        },
        "id": "zClB4IDnLhA2",
        "outputId": "af544879-74a9-4707-f7be-70409f545e8d"
      },
      "execution_count": null,
      "outputs": [
        {
          "output_type": "execute_result",
          "data": {
            "text/plain": [
              "Index(['asin', 'Id', 'title', 'group', 'categories', 'connections',\n",
              "       'salesrank', 'tot_reviews', 'avg_rating', 'clustering_coeff',\n",
              "       'DegreeCentrality'],\n",
              "      dtype='object')"
            ]
          },
          "metadata": {},
          "execution_count": 11
        }
      ]
    },
    {
      "cell_type": "code",
      "source": [
        "books_meta_spark =spark.createDataFrame(books_meta)\n",
        "books_meta_spark.printSchema()\n",
        "books_meta_spark.show()"
      ],
      "metadata": {
        "colab": {
          "base_uri": "https://localhost:8080/"
        },
        "id": "ve0KiKhfGSw6",
        "outputId": "6e9d6752-7bca-4a96-936a-f2287bf9e62d"
      },
      "execution_count": null,
      "outputs": [
        {
          "output_type": "stream",
          "name": "stdout",
          "text": [
            "root\n",
            " |-- asin: string (nullable = true)\n",
            " |-- Id: long (nullable = true)\n",
            " |-- title: string (nullable = true)\n",
            " |-- group: string (nullable = true)\n",
            " |-- categories: string (nullable = true)\n",
            " |-- connections: string (nullable = true)\n",
            " |-- salesrank: long (nullable = true)\n",
            " |-- tot_reviews: long (nullable = true)\n",
            " |-- avg_rating: double (nullable = true)\n",
            " |-- clustering_coeff: double (nullable = true)\n",
            " |-- DegreeCentrality: long (nullable = true)\n",
            "\n",
            "+----------+---+--------------------+-----+--------------------+--------------------+---------+-----------+----------+----------------+----------------+\n",
            "|      asin| Id|               title|group|          categories|         connections|salesrank|tot_reviews|avg_rating|clustering_coeff|DegreeCentrality|\n",
            "+----------+---+--------------------+-----+--------------------+--------------------+---------+-----------+----------+----------------+----------------+\n",
            "|0827229534|  1|Patterns of Preac...| Book|subject religion ...|0804215715 156101...|   396585|          2|       5.0|             0.8|               8|\n",
            "|0738700797|  2|Candlemas: Feast ...| Book|spiritu subject r...|0738700827 156718...|   168596|         12|       4.5|            0.85|               9|\n",
            "|0486287785|  3|World War II Alli...| Book|subject hobbi hom...|                 NaN|  1270652|          1|       5.0|             0.0|               0|\n",
            "|0842328327|  4|Life Application ...| Book|sacr applic gener...|0842328130 084233...|   631289|          1|       4.0|            0.79|               6|\n",
            "|1577943082|  5|Prayers That Avai...| Book|subject religion ...|157794349X 089274...|   455160|          0|       0.0|             1.0|               4|\n",
            "|0486220125|  6|How the Other Hal...| Book|art scienc genera...|0486401960 045228...|   188784|         17|       4.0|             0.8|               4|\n",
            "|0231118597|  8| Losing Matt Shepard| Book|subject nonfict c...|0375727191 080148...|   277409|         15|       4.5|            0.59|               6|\n",
            "|1859677800|  9|Making Bread: The...| Book|subject wine cook...|                 NaN|   949166|          0|       0.0|             0.0|               0|\n",
            "|0375709363| 10|The Edward Said R...| Book|fiction theori su...|039474067X 067973...|   220379|          6|       4.0|            0.93|               5|\n",
            "|0871318237| 11|Resetting the Clo...| Book|bodi store subjec...|0060984341 055357...|   412962|          1|       5.0|            0.43|               4|\n",
            "|1590770218| 12|Fantastic Food wi...| Book|diabet herb low g...|          0871319640|    24741|         12|       4.5|             0.0|               1|\n",
            "|0313230269| 13|Clockwork Worlds ...| Book|fiction theori su...|                 NaN|  2895088|          0|       0.0|             0.0|               0|\n",
            "|1559362022| 15|Wake Up and Smell...| Book|fiction z b subje...|1559360968 155936...|   518927|          8|       4.0|            0.95|               6|\n",
            "|0195110382| 16|War at Sea: A Nav...| Book|subject ii war wo...|1585741485 014024...|   631564|         10|       4.5|            0.58|               3|\n",
            "|0849311012| 17|Telecommunication...| Book|store invest gene...|1580531784 157820...|   570183|          3|       3.5|             1.0|               2|\n",
            "|078510870X| 19|Ultimate Marvel T...| Book|comic fiction mar...|          078511078X|   612475|          8|       3.5|             0.0|               1|\n",
            "|3895780812| 20|Computed Tomograp...| Book|subject radiolog ...|0865778973 007134...|   179448|          1|       5.0|            0.85|               8|\n",
            "|0393049388| 23|Strange Fire: A N...| Book|fiction subject t...|                 NaN|  1277867|          3|       3.0|             0.0|               0|\n",
            "|0553525476| 24|The Casebook of S...| Book|show tape mysteri...|                 NaN|  1545277|          2|       4.5|             0.0|               0|\n",
            "|0939165252| 25|Jailed for Freedo...| Book|studi women subje...|059500055X 067410...|   326756|          2|       3.5|            0.58|               3|\n",
            "+----------+---+--------------------+-----+--------------------+--------------------+---------+-----------+----------+----------------+----------------+\n",
            "only showing top 20 rows\n",
            "\n"
          ]
        }
      ]
    },
    {
      "cell_type": "code",
      "source": [
        "print((books_meta_spark.count(), len(books_meta_spark.columns)))\n"
      ],
      "metadata": {
        "colab": {
          "base_uri": "https://localhost:8080/"
        },
        "id": "cjxAk1bcgqso",
        "outputId": "912c64b3-ffdb-435d-cc4f-5e861a120970"
      },
      "execution_count": null,
      "outputs": [
        {
          "output_type": "stream",
          "name": "stdout",
          "text": [
            "(393561, 11)\n"
          ]
        }
      ]
    },
    {
      "cell_type": "code",
      "source": [
        "book_meta_asin = books_meta_spark.select(\"asin\").distinct().rdd.map(lambda r: r.asin).collect()"
      ],
      "metadata": {
        "id": "GNuMCZ9K8av6"
      },
      "execution_count": null,
      "outputs": []
    },
    {
      "cell_type": "code",
      "source": [
        "book_review_asin = df.select('asin').distinct().rdd.map(lambda r: r.asin).collect()"
      ],
      "metadata": {
        "id": "WyewLBzourJc"
      },
      "execution_count": null,
      "outputs": []
    },
    {
      "cell_type": "code",
      "source": [
        "def intersection(lst1, lst2):\n",
        "    return list(set(lst1) & set(lst2))\n",
        "\n",
        "common_asin  = intersection(book_review_asin, book_meta_asin)\n",
        "len(common_asin)"
      ],
      "metadata": {
        "colab": {
          "base_uri": "https://localhost:8080/"
        },
        "id": "sRFmSjKf94QW",
        "outputId": "542ea2c0-9311-4dac-ccd8-dc85a0dea82a"
      },
      "execution_count": null,
      "outputs": [
        {
          "output_type": "execute_result",
          "data": {
            "text/plain": [
              "33838"
            ]
          },
          "metadata": {},
          "execution_count": 16
        }
      ]
    },
    {
      "cell_type": "code",
      "source": [
        "books_nx_reviews = books_meta_spark.join(df,['asin'],\"inner\")"
      ],
      "metadata": {
        "id": "LrLR7ySEJUat"
      },
      "execution_count": null,
      "outputs": []
    },
    {
      "cell_type": "code",
      "source": [
        "books_nx_reviews.show(5)"
      ],
      "metadata": {
        "colab": {
          "base_uri": "https://localhost:8080/"
        },
        "id": "dvfdzFc_eiZl",
        "outputId": "666a41b4-5e0d-49f0-f4af-876551ba802a"
      },
      "execution_count": null,
      "outputs": [
        {
          "output_type": "stream",
          "name": "stdout",
          "text": [
            "+----------+------+--------------------+-----+--------------------+--------------------+---------+-----------+----------+----------------+----------------+---------------+----------+-------+--------------------+--------------+--------------------+\n",
            "|      asin|    Id|               title|group|          categories|         connections|salesrank|tot_reviews|avg_rating|clustering_coeff|DegreeCentrality|_corrupt_record|      asin|overall|          reviewText|    reviewerID|             summary|\n",
            "+----------+------+--------------------+-----+--------------------+--------------------+---------+-----------+----------+----------------+----------------+---------------+----------+-------+--------------------+--------------+--------------------+\n",
            "|0002171856|300284|The SAS Survival ...| Book|camp outdoor subj...|1585740608 158574...|   381361|         34|       4.5|             0.9|               4|           NULL|0002171856|    5.0|       Good product.|A2T2KN06Q8R4KE|       Good product.|\n",
            "|0002171856|300284|The SAS Survival ...| Book|camp outdoor subj...|1585740608 158574...|   381361|         34|       4.5|             0.9|               4|           NULL|0002171856|    5.0|Great Product and...|A1B2T3HLQCE7RM|          Five Stars|\n",
            "|0002171856|300284|The SAS Survival ...| Book|camp outdoor subj...|1585740608 158574...|   381361|         34|       4.5|             0.9|               4|           NULL|0002171856|    5.0|Lots of cool stuf...| AAKDIUXN1UEJ7|          Five Stars|\n",
            "|0002171856|300284|The SAS Survival ...| Book|camp outdoor subj...|1585740608 158574...|   381361|         34|       4.5|             0.9|               4|           NULL|0002171856|    4.0|Decent amount of ...|A1C771GEA4K4MX|Good book. A litt...|\n",
            "|0002171856|300284|The SAS Survival ...| Book|camp outdoor subj...|1585740608 158574...|   381361|         34|       4.5|             0.9|               4|           NULL|0002171856|    5.0|Amazing.  Still o...|A21FUZ3QXOFI5A|Good companion to...|\n",
            "+----------+------+--------------------+-----+--------------------+--------------------+---------+-----------+----------+----------------+----------------+---------------+----------+-------+--------------------+--------------+--------------------+\n",
            "only showing top 5 rows\n",
            "\n"
          ]
        }
      ]
    },
    {
      "cell_type": "code",
      "source": [
        "books_nx_reviews.printSchema()"
      ],
      "metadata": {
        "colab": {
          "base_uri": "https://localhost:8080/"
        },
        "id": "DQDzGhYtlrX5",
        "outputId": "4d6bc06c-4863-451b-faa7-2d7c97eeac61"
      },
      "execution_count": null,
      "outputs": [
        {
          "output_type": "stream",
          "name": "stdout",
          "text": [
            "root\n",
            " |-- asin: string (nullable = true)\n",
            " |-- Id: long (nullable = true)\n",
            " |-- title: string (nullable = true)\n",
            " |-- group: string (nullable = true)\n",
            " |-- categories: string (nullable = true)\n",
            " |-- connections: string (nullable = true)\n",
            " |-- salesrank: long (nullable = true)\n",
            " |-- tot_reviews: long (nullable = true)\n",
            " |-- avg_rating: double (nullable = true)\n",
            " |-- clustering_coeff: double (nullable = true)\n",
            " |-- DegreeCentrality: long (nullable = true)\n",
            " |-- _corrupt_record: string (nullable = true)\n",
            " |-- overall: double (nullable = true)\n",
            " |-- reviewText: string (nullable = true)\n",
            " |-- reviewerID: string (nullable = true)\n",
            " |-- summary: string (nullable = true)\n",
            "\n"
          ]
        }
      ]
    },
    {
      "cell_type": "code",
      "source": [
        "books_nx_reviews.select(\"avg_rating\", \"clustering_coeff\",\"DegreeCentrality\").describe().show(truncate=8)"
      ],
      "metadata": {
        "colab": {
          "base_uri": "https://localhost:8080/"
        },
        "id": "d9su-xUcoHas",
        "outputId": "17721669-d03b-434f-f299-069dcfd869f0"
      },
      "execution_count": null,
      "outputs": [
        {
          "output_type": "stream",
          "name": "stdout",
          "text": [
            "+-------+----------+----------------+----------------+\n",
            "|summary|avg_rating|clustering_coeff|DegreeCentrality|\n",
            "+-------+----------+----------------+----------------+\n",
            "|  count|   1183198|         1183198|         1183198|\n",
            "|   mean|  4.223...|        0.659...|        10.00...|\n",
            "| stddev|  0.742...|        0.287...|        13.66...|\n",
            "|    min|       0.0|             0.0|               0|\n",
            "|    max|       5.0|             1.0|             224|\n",
            "+-------+----------+----------------+----------------+\n",
            "\n"
          ]
        }
      ]
    },
    {
      "cell_type": "code",
      "source": [
        "print((books_nx_reviews.count(), len(books_nx_reviews.columns)))\n"
      ],
      "metadata": {
        "colab": {
          "base_uri": "https://localhost:8080/"
        },
        "id": "nMkFzKYDdbuH",
        "outputId": "c842cc6d-7af5-450d-d8a1-221755c26e4f"
      },
      "execution_count": null,
      "outputs": [
        {
          "output_type": "stream",
          "name": "stdout",
          "text": [
            "(1183198, 17)\n"
          ]
        }
      ]
    },
    {
      "cell_type": "code",
      "source": [
        "books_ex = books_nx_reviews.filter(books_nx_reviews.asin == \"0932081258\").toPandas()"
      ],
      "metadata": {
        "id": "UE0CfRsWlOaj"
      },
      "execution_count": null,
      "outputs": []
    },
    {
      "cell_type": "code",
      "source": [
        "books_ex.title.unique()"
      ],
      "metadata": {
        "colab": {
          "base_uri": "https://localhost:8080/"
        },
        "id": "PkbbkqgGpCGX",
        "outputId": "85ced355-b1ec-4736-f4f7-da438557b9d5"
      },
      "execution_count": null,
      "outputs": [
        {
          "output_type": "execute_result",
          "data": {
            "text/plain": [
              "array([], dtype=object)"
            ]
          },
          "metadata": {},
          "execution_count": 72
        }
      ]
    },
    {
      "cell_type": "code",
      "source": [
        "books_ex['reviewText'].values"
      ],
      "metadata": {
        "colab": {
          "base_uri": "https://localhost:8080/"
        },
        "id": "35L7iIb2oQnx",
        "outputId": "f0ef3d57-d13f-4d6a-e935-27f7111fe91d"
      },
      "execution_count": null,
      "outputs": [
        {
          "output_type": "execute_result",
          "data": {
            "text/plain": [
              "array([], dtype=object)"
            ]
          },
          "metadata": {},
          "execution_count": 73
        }
      ]
    },
    {
      "cell_type": "code",
      "source": [
        "stopwords.add(\"book\")\n",
        "wordcloud = WordCloud(\n",
        "    background_color = 'black',\n",
        "    width = 1000,\n",
        "    height = 500,\n",
        "    stopwords = stopwords).generate(str(books_ex['reviewText'].values))\n",
        "\n",
        "plt.imshow(wordcloud, interpolation='bilinear')\n",
        "plt.axis(\"off\")\n",
        "plt.rcParams[\"figure.figsize\"] = [10, 10]"
      ],
      "metadata": {
        "colab": {
          "base_uri": "https://localhost:8080/",
          "height": 391
        },
        "id": "qDgWPLEppfR0",
        "outputId": "d11f9654-92ce-4539-ca59-64aa76841eb2"
      },
      "execution_count": null,
      "outputs": [
        {
          "output_type": "error",
          "ename": "ValueError",
          "evalue": "ignored",
          "traceback": [
            "\u001b[0;31m---------------------------------------------------------------------------\u001b[0m",
            "\u001b[0;31mValueError\u001b[0m                                Traceback (most recent call last)",
            "\u001b[0;32m<ipython-input-74-ab452dca7741>\u001b[0m in \u001b[0;36m<cell line: 2>\u001b[0;34m()\u001b[0m\n\u001b[1;32m      4\u001b[0m     \u001b[0mwidth\u001b[0m \u001b[0;34m=\u001b[0m \u001b[0;36m1000\u001b[0m\u001b[0;34m,\u001b[0m\u001b[0;34m\u001b[0m\u001b[0;34m\u001b[0m\u001b[0m\n\u001b[1;32m      5\u001b[0m     \u001b[0mheight\u001b[0m \u001b[0;34m=\u001b[0m \u001b[0;36m500\u001b[0m\u001b[0;34m,\u001b[0m\u001b[0;34m\u001b[0m\u001b[0;34m\u001b[0m\u001b[0m\n\u001b[0;32m----> 6\u001b[0;31m     stopwords = stopwords).generate(str(books_ex['reviewText'].values))\n\u001b[0m\u001b[1;32m      7\u001b[0m \u001b[0;34m\u001b[0m\u001b[0m\n\u001b[1;32m      8\u001b[0m \u001b[0mplt\u001b[0m\u001b[0;34m.\u001b[0m\u001b[0mimshow\u001b[0m\u001b[0;34m(\u001b[0m\u001b[0mwordcloud\u001b[0m\u001b[0;34m,\u001b[0m \u001b[0minterpolation\u001b[0m\u001b[0;34m=\u001b[0m\u001b[0;34m'bilinear'\u001b[0m\u001b[0;34m)\u001b[0m\u001b[0;34m\u001b[0m\u001b[0;34m\u001b[0m\u001b[0m\n",
            "\u001b[0;32m/usr/local/lib/python3.10/dist-packages/wordcloud/wordcloud.py\u001b[0m in \u001b[0;36mgenerate\u001b[0;34m(self, text)\u001b[0m\n\u001b[1;32m    637\u001b[0m         \u001b[0mself\u001b[0m\u001b[0;34m\u001b[0m\u001b[0;34m\u001b[0m\u001b[0m\n\u001b[1;32m    638\u001b[0m         \"\"\"\n\u001b[0;32m--> 639\u001b[0;31m         \u001b[0;32mreturn\u001b[0m \u001b[0mself\u001b[0m\u001b[0;34m.\u001b[0m\u001b[0mgenerate_from_text\u001b[0m\u001b[0;34m(\u001b[0m\u001b[0mtext\u001b[0m\u001b[0;34m)\u001b[0m\u001b[0;34m\u001b[0m\u001b[0;34m\u001b[0m\u001b[0m\n\u001b[0m\u001b[1;32m    640\u001b[0m \u001b[0;34m\u001b[0m\u001b[0m\n\u001b[1;32m    641\u001b[0m     \u001b[0;32mdef\u001b[0m \u001b[0m_check_generated\u001b[0m\u001b[0;34m(\u001b[0m\u001b[0mself\u001b[0m\u001b[0;34m)\u001b[0m\u001b[0;34m:\u001b[0m\u001b[0;34m\u001b[0m\u001b[0;34m\u001b[0m\u001b[0m\n",
            "\u001b[0;32m/usr/local/lib/python3.10/dist-packages/wordcloud/wordcloud.py\u001b[0m in \u001b[0;36mgenerate_from_text\u001b[0;34m(self, text)\u001b[0m\n\u001b[1;32m    619\u001b[0m         \"\"\"\n\u001b[1;32m    620\u001b[0m         \u001b[0mwords\u001b[0m \u001b[0;34m=\u001b[0m \u001b[0mself\u001b[0m\u001b[0;34m.\u001b[0m\u001b[0mprocess_text\u001b[0m\u001b[0;34m(\u001b[0m\u001b[0mtext\u001b[0m\u001b[0;34m)\u001b[0m\u001b[0;34m\u001b[0m\u001b[0;34m\u001b[0m\u001b[0m\n\u001b[0;32m--> 621\u001b[0;31m         \u001b[0mself\u001b[0m\u001b[0;34m.\u001b[0m\u001b[0mgenerate_from_frequencies\u001b[0m\u001b[0;34m(\u001b[0m\u001b[0mwords\u001b[0m\u001b[0;34m)\u001b[0m\u001b[0;34m\u001b[0m\u001b[0;34m\u001b[0m\u001b[0m\n\u001b[0m\u001b[1;32m    622\u001b[0m         \u001b[0;32mreturn\u001b[0m \u001b[0mself\u001b[0m\u001b[0;34m\u001b[0m\u001b[0;34m\u001b[0m\u001b[0m\n\u001b[1;32m    623\u001b[0m \u001b[0;34m\u001b[0m\u001b[0m\n",
            "\u001b[0;32m/usr/local/lib/python3.10/dist-packages/wordcloud/wordcloud.py\u001b[0m in \u001b[0;36mgenerate_from_frequencies\u001b[0;34m(self, frequencies, max_font_size)\u001b[0m\n\u001b[1;32m    408\u001b[0m         \u001b[0mfrequencies\u001b[0m \u001b[0;34m=\u001b[0m \u001b[0msorted\u001b[0m\u001b[0;34m(\u001b[0m\u001b[0mfrequencies\u001b[0m\u001b[0;34m.\u001b[0m\u001b[0mitems\u001b[0m\u001b[0;34m(\u001b[0m\u001b[0;34m)\u001b[0m\u001b[0;34m,\u001b[0m \u001b[0mkey\u001b[0m\u001b[0;34m=\u001b[0m\u001b[0mitemgetter\u001b[0m\u001b[0;34m(\u001b[0m\u001b[0;36m1\u001b[0m\u001b[0;34m)\u001b[0m\u001b[0;34m,\u001b[0m \u001b[0mreverse\u001b[0m\u001b[0;34m=\u001b[0m\u001b[0;32mTrue\u001b[0m\u001b[0;34m)\u001b[0m\u001b[0;34m\u001b[0m\u001b[0;34m\u001b[0m\u001b[0m\n\u001b[1;32m    409\u001b[0m         \u001b[0;32mif\u001b[0m \u001b[0mlen\u001b[0m\u001b[0;34m(\u001b[0m\u001b[0mfrequencies\u001b[0m\u001b[0;34m)\u001b[0m \u001b[0;34m<=\u001b[0m \u001b[0;36m0\u001b[0m\u001b[0;34m:\u001b[0m\u001b[0;34m\u001b[0m\u001b[0;34m\u001b[0m\u001b[0m\n\u001b[0;32m--> 410\u001b[0;31m             raise ValueError(\"We need at least 1 word to plot a word cloud, \"\n\u001b[0m\u001b[1;32m    411\u001b[0m                              \"got %d.\" % len(frequencies))\n\u001b[1;32m    412\u001b[0m         \u001b[0mfrequencies\u001b[0m \u001b[0;34m=\u001b[0m \u001b[0mfrequencies\u001b[0m\u001b[0;34m[\u001b[0m\u001b[0;34m:\u001b[0m\u001b[0mself\u001b[0m\u001b[0;34m.\u001b[0m\u001b[0mmax_words\u001b[0m\u001b[0;34m]\u001b[0m\u001b[0;34m\u001b[0m\u001b[0;34m\u001b[0m\u001b[0m\n",
            "\u001b[0;31mValueError\u001b[0m: We need at least 1 word to plot a word cloud, got 0."
          ]
        }
      ]
    },
    {
      "cell_type": "code",
      "source": [
        "wordcloud = WordCloud().generate(str(books_ex['reviewText'].values))\n",
        "\n",
        "plt.imshow(wordcloud)"
      ],
      "metadata": {
        "colab": {
          "base_uri": "https://localhost:8080/",
          "height": 330
        },
        "id": "BS9hZu6Po64-",
        "outputId": "b97dd1dc-9d21-4204-f1e4-39198df52b1a"
      },
      "execution_count": null,
      "outputs": [
        {
          "output_type": "execute_result",
          "data": {
            "text/plain": [
              "<matplotlib.image.AxesImage at 0x78c60d89f970>"
            ]
          },
          "metadata": {},
          "execution_count": 50
        },
        {
          "output_type": "display_data",
          "data": {
            "text/plain": [
              "<Figure size 640x480 with 1 Axes>"
            ],
            "image/png": "[encoded data removed]"
          },
          "metadata": {}
        }
      ]
    },
    {
      "cell_type": "markdown",
      "source": [
        "## Network analysis"
      ],
      "metadata": {
        "id": "MtIttsa2HvUj"
      }
    },
    {
      "cell_type": "code",
      "source": [],
      "metadata": {
        "id": "IpppdNyDn-rH"
      },
      "execution_count": null,
      "outputs": []
    },
    {
      "cell_type": "code",
      "source": [
        "from itertools import islice\n",
        "\n",
        "def take(n, iterable):\n",
        "    \"\"\"Return the first n items of the iterable as a list.\"\"\"\n",
        "    return list(islice(iterable, n))\n",
        "\n",
        "take(3,books_dict.items())[0][1]['categories']"
      ],
      "metadata": {
        "colab": {
          "base_uri": "https://localhost:8080/",
          "height": 35
        },
        "id": "ukc4RrPgdkkv",
        "outputId": "613e368c-0aca-440e-ab44-cc391b8c19b5"
      },
      "execution_count": null,
      "outputs": [
        {
          "output_type": "execute_result",
          "data": {
            "text/plain": [
              "'subject religion sermon preach christian book spiritu clergi'"
            ],
            "application/vnd.google.colaboratory.intrinsic+json": {
              "type": "string"
            }
          },
          "metadata": {},
          "execution_count": 16
        }
      ]
    },
    {
      "cell_type": "code",
      "source": [
        "Copurchase_Graph = nx.Graph()\n",
        "for asin, metadata in books_dict.items():\n",
        "    Copurchase_Graph.add_node(asin)\n",
        "    for a in metadata['connections'].split():\n",
        "        Copurchase_Graph.add_node(a.strip())\n",
        "        similarity = 0\n",
        "        n1 = set((books_dict[asin]['categories']).split())\n",
        "        n2 = set((books_dict[a]['categories']).split())\n",
        "        n1In2 = n1 & n2\n",
        "        n1Un2 = n1 | n2\n",
        "        if(len(n1In2)) > 0:\n",
        "            similarity = round(len(n1In2) / len(n1Un2), 2)\n",
        "            #print(similarity)\n",
        "            Copurchase_Graph.add_edge(asin, a.strip(), weight = similarity)"
      ],
      "metadata": {
        "id": "XuR46sOx49mv"
      },
      "execution_count": null,
      "outputs": []
    },
    {
      "cell_type": "code",
      "source": [
        "dc = nx.degree(Copurchase_Graph)\n",
        "for asin in nx.nodes(Copurchase_Graph):\n",
        "    metadata = books_dict[asin]\n",
        "    metadata['DegreeCentrality'] = int(dc[asin])\n",
        "    ego = nx.ego_graph(Copurchase_Graph, asin, radius = 1)\n",
        "    cluster_coeff = round(nx.average_clustering(ego), 2)\n",
        "    #print(cluster_coeff)\n",
        "    metadata['clustering_coeff'] = cluster_coeff\n",
        "    books_dict[asin] = metadata"
      ],
      "metadata": {
        "id": "UKTgyy7s5pJt"
      },
      "execution_count": null,
      "outputs": []
    },
    {
      "cell_type": "code",
      "source": [
        "Amazon_Books_File = open('books_clustering_coeff.txt', 'w', encoding = 'utf-8', errors = 'ignore')\n",
        "\n",
        "Amazon_Books_File.write(\"Id\\t\" + \"ASIN\\t\" + \"title\\t\" + \"categories\\t\" + \"group\\t\" + \"similar\\t\" + \"salesrank\\t\" + \"tot_reviews\\t\" + \"avg_rating\\t\" \"degree_centrality\\t\" +\n",
        "                        \"clustering_coeff\\n\")\n",
        "\n",
        "for asin, metadata in books_dict.items(): # converting the meta-data into txt file\n",
        "     Amazon_Books_File.write(metadata['Id'] + \"\\t\" + \\\n",
        "                             asin + \"\\t\" +  \\\n",
        "                             metadata['title'] + \"\\t\" + \\\n",
        "                             metadata['categories'] + \"\\t\" + \\\n",
        "                             metadata['group'] + \"\\t\" +  \\\n",
        "                             metadata['similar'] + \"\\t\" + \\\n",
        "                             str(metadata['salesrank']) + \"\\t\" + \\\n",
        "                             str(metadata['tot_reviews']) + \"\\t\" +\n",
        "                             str(metadata['avg_rating']) + \"\\t\" + \\\n",
        "                             str(metadata['degree_centrality']) + \"\\t\" + \\\n",
        "                             str(metadata['clustering_coeff']) + \"\\n\")\n",
        "\n",
        "Amazon_Books_File.close()"
      ],
      "metadata": {
        "id": "bWwxu-z96Q6L"
      },
      "execution_count": null,
      "outputs": []
    },
    {
      "cell_type": "code",
      "source": [
        "# writing the adjacency edge list\n",
        "Amazon_Books_File = open(\"amazon-books-copurchase.edgelist\", 'wb')\n",
        "nx.write_weighted_edgelist(Copurchase_Graph, Amazon_Books_File)\n",
        "Amazon_Books_File.close()"
      ],
      "metadata": {
        "id": "5rQerRvO7QNr"
      },
      "execution_count": null,
      "outputs": []
    },
    {
      "cell_type": "code",
      "source": [
        "%ls"
      ],
      "metadata": {
        "colab": {
          "base_uri": "https://localhost:8080/"
        },
        "id": "Gia3NfTg7shW",
        "outputId": "b7c8d951-7a3d-4d09-d295-dd8edc2d4766"
      },
      "execution_count": null,
      "outputs": [
        {
          "output_type": "stream",
          "name": "stdout",
          "text": [
            " amazon-books-copurchase.edgelist   Books_5.json.gz              Books_rating_category.json\n",
            " amazon-meta.txt                    books_amzn_meta.csv         'Dataset Links.gdoc'\n",
            " amazon_products.pickle             books_clustering_coeff.txt\n"
          ]
        }
      ]
    },
    {
      "cell_type": "markdown",
      "source": [
        "### Read in clustering coeff file"
      ],
      "metadata": {
        "id": "kxRcFP2o7uY4"
      }
    },
    {
      "cell_type": "code",
      "source": [
        "take(3,books_dict.items())[0][1]"
      ],
      "metadata": {
        "colab": {
          "base_uri": "https://localhost:8080/",
          "height": 179
        },
        "id": "i7M7QZXz5dBb",
        "outputId": "2c9be4ad-7388-4888-a8fd-99dca3365a81"
      },
      "execution_count": null,
      "outputs": [
        {
          "output_type": "error",
          "ename": "NameError",
          "evalue": "ignored",
          "traceback": [
            "\u001b[0;31m---------------------------------------------------------------------------\u001b[0m",
            "\u001b[0;31mNameError\u001b[0m                                 Traceback (most recent call last)",
            "\u001b[0;32m<ipython-input-15-82e72c89dffc>\u001b[0m in \u001b[0;36m<cell line: 1>\u001b[0;34m()\u001b[0m\n\u001b[0;32m----> 1\u001b[0;31m \u001b[0mtake\u001b[0m\u001b[0;34m(\u001b[0m\u001b[0;36m3\u001b[0m\u001b[0;34m,\u001b[0m\u001b[0mbooks_dict\u001b[0m\u001b[0;34m.\u001b[0m\u001b[0mitems\u001b[0m\u001b[0;34m(\u001b[0m\u001b[0;34m)\u001b[0m\u001b[0;34m)\u001b[0m\u001b[0;34m[\u001b[0m\u001b[0;36m0\u001b[0m\u001b[0;34m]\u001b[0m\u001b[0;34m[\u001b[0m\u001b[0;36m1\u001b[0m\u001b[0;34m]\u001b[0m\u001b[0;34m\u001b[0m\u001b[0;34m\u001b[0m\u001b[0m\n\u001b[0m",
            "\u001b[0;31mNameError\u001b[0m: name 'take' is not defined"
          ]
        }
      ]
    },
    {
      "cell_type": "code",
      "source": [
        "Books_File = open('books_clustering_coeff.txt', 'r', encoding = 'utf-8', errors = 'ignore')\n",
        "Books = {}\n",
        "Books_File.readline()\n",
        "for line in Books_File:\n",
        "    cell = line.split(\"\\t\")\n",
        "    MetaData = {}\n",
        "    MetaData['Id'] = cell[0].strip()\n",
        "    ASIN = cell[1].strip()\n",
        "    MetaData['title'] = cell[2].strip()\n",
        "    MetaData['categories'] = cell[3].strip()\n",
        "    MetaData['group'] = cell[4].strip()\n",
        "    MetaData['similar'] = cell[5].strip()\n",
        "    MetaData['salesrank'] = int(cell[6].strip())\n",
        "    MetaData['tot_reviews'] = int(cell[7].strip())\n",
        "    MetaData['avg_rating'] = float(cell[8].strip())\n",
        "    MetaData['degree_centrality'] = int(cell[9].strip())\n",
        "    MetaData['clustering_coeff'] = float(cell[10].strip())\n",
        "    Books[ASIN] = MetaData\n",
        "Books_File.close()"
      ],
      "metadata": {
        "id": "Kxv_HUQK8K1a"
      },
      "execution_count": null,
      "outputs": []
    },
    {
      "cell_type": "code",
      "source": [
        "Books_File = open(\"amazon-books-copurchase.edgelist\", \"rb\")\n",
        "Copurchase_Graph = nx.read_weighted_edgelist(Books_File)\n",
        "Books_File.close()"
      ],
      "metadata": {
        "id": "1wq4lmEV8gYS"
      },
      "execution_count": null,
      "outputs": []
    },
    {
      "cell_type": "code",
      "source": [
        "Copurchase_Graph = nx.read_weighted_edgelist(\"amazon-books-copurchase.edgelist\")"
      ],
      "metadata": {
        "id": "3oRTYnFBA5wp"
      },
      "execution_count": null,
      "outputs": []
    },
    {
      "cell_type": "markdown",
      "source": [
        "## Recommendation"
      ],
      "metadata": {
        "id": "CZ5XxR9D8r5P"
      }
    },
    {
      "cell_type": "code",
      "source": [
        "print(\"Looking for Recommendations for Customer Purchasing this Book: \")\n",
        "print(\"---------------------------------------------------------------\")\n",
        "Purchased_ASIN = '0805047905'\n",
        "print(\"ASIN = \", Purchased_ASIN)\n",
        "print(\"title = \", Books[Purchased_ASIN]['title'])\n",
        "print(\"salesrank = \", Books[Purchased_ASIN]['salesrank'])\n",
        "print(\"tot_reviews = \", Books[Purchased_ASIN]['tot_reviews'])\n",
        "print(\"avg_rating = \", Books[Purchased_ASIN]['avg_rating'])\n",
        "print(\"degree_centrality = \", Books[Purchased_ASIN]['degree_centrality'])\n",
        "print(\"clustering_coeff = \", Books[Purchased_ASIN]['clustering_coeff'])"
      ],
      "metadata": {
        "colab": {
          "base_uri": "https://localhost:8080/"
        },
        "id": "ZO3Un2ie8uGp",
        "outputId": "846a0d8d-2bf9-46cf-88ed-1c64ff4e85e3"
      },
      "execution_count": null,
      "outputs": [
        {
          "output_type": "stream",
          "name": "stdout",
          "text": [
            "Looking for Recommendations for Customer Purchasing this Book: \n",
            "---------------------------------------------------------------\n",
            "ASIN =  0805047905\n",
            "title =  Brown Bear, Brown Bear, What Do You See?\n",
            "salesrank =  171\n",
            "tot_reviews =  172\n",
            "avg_rating =  5.0\n",
            "degree_centrality =  5\n",
            "clustering_coeff =  0.0\n"
          ]
        }
      ]
    },
    {
      "cell_type": "code",
      "source": [
        "Purchased_ASIN in list(Copurchase_Graph.nodes)"
      ],
      "metadata": {
        "colab": {
          "base_uri": "https://localhost:8080/"
        },
        "id": "4PMSglaE9bcb",
        "outputId": "a7946a77-8420-4516-f47c-bed2ae63ef46"
      },
      "execution_count": null,
      "outputs": [
        {
          "output_type": "execute_result",
          "data": {
            "text/plain": [
              "True"
            ]
          },
          "metadata": {},
          "execution_count": 177
        }
      ]
    },
    {
      "cell_type": "code",
      "source": [
        "ego = nx.ego_graph(Copurchase_Graph, Purchased_ASIN, radius = 1)\n",
        "Purchased_ASIN_Ego_Graph = nx.Graph(ego)"
      ],
      "metadata": {
        "id": "1SWNc-o29Oc_"
      },
      "execution_count": null,
      "outputs": []
    },
    {
      "cell_type": "code",
      "source": [
        "threshold = 0.5 # finding the nodes having similarity measure based on category above the threshold value\n",
        "Purchased_ASIN_Ego_Trim_Graph = nx.Graph()\n",
        "for f, t, e in Purchased_ASIN_Ego_Graph.edges(data = True):\n",
        "    if e['weight'] >= threshold:\n",
        "        Purchased_ASIN_Ego_Trim_Graph.add_edge(f, t)"
      ],
      "metadata": {
        "id": "X2qMGvgg-2wp"
      },
      "execution_count": null,
      "outputs": []
    },
    {
      "cell_type": "code",
      "source": [
        "Purchased_ASIN_Neighbors = Purchased_ASIN_Ego_Trim_Graph.neighbors(Purchased_ASIN)\n"
      ],
      "metadata": {
        "id": "xDwTOtypdrrv"
      },
      "execution_count": null,
      "outputs": []
    },
    {
      "cell_type": "code",
      "source": [
        "ASIN_Meta = []\n",
        "for asin in Purchased_ASIN_Neighbors:\n",
        "    ASIN = asin\n",
        "    Title = books_dict[ASIN]['title']\n",
        "    SalesRank = books_dict[ASIN]['salesrank']\n",
        "    TotalReviews = books_dict[ASIN]['tot_reviews']\n",
        "    AvgRating = books_dict[ASIN]['avg_rating']\n",
        "    DegreeCentrality = books_dict[ASIN]['degree_centrality']\n",
        "    ClusteringCoeff = books_dict[ASIN]['clustering_coeff']\n",
        "    ASIN_Meta.append((ASIN, Title, SalesRank, TotalReviews, AvgRating, DegreeCentrality, ClusteringCoeff))"
      ],
      "metadata": {
        "id": "RrCsf8bQdt9q"
      },
      "execution_count": null,
      "outputs": []
    },
    {
      "cell_type": "code",
      "source": [
        "Top5_ByAbgRating_ThenByTotalReviews = sorted(ASIN_Meta, key = lambda x: (x[4], x[3]), reverse = True)[:5]\n",
        "print()\n",
        "print(\"Top 5 Recommendations By AvgRating Then By TotalReviews for Users Purchased The Book: \")\n",
        "print(\"--------------------------------------------------------------------------------------\")\n",
        "print('ASIN\\t', 'title\\t', 'salesrank\\t', 'tot_reviews\\t', 'avg_rating\\t', 'degree_centrality\\t', 'clustering_coeff')\n",
        "for asin in Top5_ByAbgRating_ThenByTotalReviews:\n",
        "    print(asin)\n",
        "\n",
        "print()"
      ],
      "metadata": {
        "colab": {
          "base_uri": "https://localhost:8080/"
        },
        "id": "ZF8AYVUNelxh",
        "outputId": "a51883c6-8d3a-4008-8706-162ec4f2292f"
      },
      "execution_count": null,
      "outputs": [
        {
          "output_type": "stream",
          "name": "stdout",
          "text": [
            "\n",
            "Top 5 Recommendations By AvgRating Then By TotalReviews for Users Purchased The Book: \n",
            "--------------------------------------------------------------------------------------\n",
            "ASIN\t title\t salesrank\t tot_reviews\t avg_rating\t degree_centrality\t clustering_coeff\n",
            "('0152010661', 'Time for Bed', 3122, 87, 5.0, 0, 0.57)\n",
            "('0694006246', 'Big Red Barn Board Book', 4457, 40, 5.0, 0, 0.57)\n",
            "('1581170769', 'What Makes a Rainbow?: Pop-Up', 40821, 29, 5.0, 0, 0.8)\n",
            "('0064435962', 'From Head to Toe', 187777, 22, 5.0, 0, 0.93)\n",
            "('0060235152', 'From Head to Toe', 43438, 22, 5.0, 0, 0.93)\n",
            "\n"
          ]
        }
      ]
    },
    {
      "cell_type": "markdown",
      "source": [
        "##  Advaitiyer/advanced-data-mining"
      ],
      "metadata": {
        "id": "SrYMdSrP7ifr"
      }
    },
    {
      "cell_type": "code",
      "source": [
        "# # Evaluating the similarity between two connected nodes\n",
        "# connections_graph = nx.Graph()\n",
        "# # Add the nodes\n",
        "# for key, value in amzn.items():\n",
        "#   connections_graph.add_node(key)\n",
        "#   for i in value['connections'].split():\n",
        "#     # Add the respective connected nodes\n",
        "#     connections_graph.add_node(i.strip())\n",
        "#     similarity = 0\n",
        "#     try:\n",
        "#       # Set of words in the node's categorical description\n",
        "#       set_1 = set(amzn[key]['categories'].split())\n",
        "#       # Set of words is node's connections' categorical description\n",
        "#       set_2 = set(amzn[i]['categories'].split())\n",
        "#     except KeyError:\n",
        "#       continue\n",
        "#     # Calculating intersection and union\n",
        "#     union = set_1 & set_2\n",
        "#     intersection = set_1 | set_2\n",
        "#     if(len(union)) > 0:\n",
        "#       # Similarity is the ratio of intersection with union. The more common items, the higher the intersection, and similarity\n",
        "#       similarity = round(len(intersection)/len(union),2)\n",
        "#     connections_graph.add_edge(key, i.strip(), weight=similarity)\n",
        "\n",
        "# A = nx.adjacency_matrix(connections_graph)\n",
        "\n",
        "# L = nx.laplacian_matrix(connections_graph)\n"
      ],
      "metadata": {
        "id": "qzFgxHSp7E54"
      },
      "execution_count": null,
      "outputs": []
    },
    {
      "cell_type": "code",
      "source": [
        "# Due to the large size of the data, computing only top 200 eigenvalues/eigenvectors\n",
        "# eigenvalues, eigenvectors = eigsh(L, k=200, which='LM', return_eigenvectors=True)\n",
        "# # Sorting the eigenvectors on the basis of sorted eigenvalues' keys\n",
        "# ids = eigenvalues.argsort()[::-1]\n",
        "# eigenvalues = eigenvalues[ids]\n",
        "# plt.plot(eigenvalues)\n",
        "\n",
        "# eigenvectors = eigenvectors[:, ids]"
      ],
      "metadata": {
        "id": "oLdc-K7a7VAl"
      },
      "execution_count": null,
      "outputs": []
    },
    {
      "cell_type": "code",
      "source": [
        "# Evaluating the degree of the nodes of connections\n",
        "# deg_central = nx.degree(connections_graph)\n",
        "# for key in nx.nodes(connections_graph):\n",
        "#   try:\n",
        "#     value = amzn[key]\n",
        "#   except KeyError:\n",
        "#     continue\n",
        "#   # Degree centrality is the integer value of deg_central\n",
        "#   value['degree_centrality'] = int(deg_central[key])\n",
        "#   #\n",
        "#   ego = nx.ego_graph(connections_graph, key, radius=1)\n",
        "#   # Evaluating the clustering coefficient by\n",
        "#   value['clustering_coeff'] = round(nx.average_clustering(ego),2)\n",
        "#   amzn[key] = value\n",
        "\n",
        "# # Printing the weights of each of each 150th node\n",
        "# count = 0\n",
        "# for f,t,e in connections_graph.edges(data=True):\n",
        "#   if count == 150:\n",
        "#     break\n",
        "#   print(e['weight'])\n",
        "#   count +=1"
      ],
      "metadata": {
        "id": "Ubbi1uHXHtbP"
      },
      "execution_count": null,
      "outputs": []
    },
    {
      "cell_type": "code",
      "source": [
        "# items = list(amzn.items())\n",
        "\n",
        "# # Converting the dictionary into a dataframe\n",
        "# ls = []\n",
        "# for i, j in enumerate(items):\n",
        "#     colnames = list(j[1])\n",
        "#     colnames.append(\"ASIN\")\n",
        "#     vals = list(j[1].values())\n",
        "#     vals.append(j[0])\n",
        "#     ls.append(vals)\n",
        "# df_meta = pd.DataFrame(ls, columns=colnames)\n",
        "\n",
        "# # Choosing salesrank, total reviews, average rating, degree centrality, and clustering coefficient columns\n",
        "# # df.head()\n",
        "# df_new = df_meta[[\"salesrank\",\"tot_reviews\",\"avg_rating\",\"degree_centrality\",\"clustering_coeff\"]]\n",
        "# for i in range(len(df_new['salesrank'])):\n",
        "#     if df_new['salesrank'][i] == 0:\n",
        "#         df_new = df_new.drop(i)\n",
        "\n",
        "# clustering_coeff_sorted = df_meta.sort_values('clustering_coeff', ascending=False)"
      ],
      "metadata": {
        "id": "nbnMIa1HHtp3"
      },
      "execution_count": null,
      "outputs": []
    },
    {
      "cell_type": "code",
      "source": [
        "with open(\"books_dict.json\", \"w\") as outfile:\n",
        "    outfile.write(json.dumps(books_dict, indent=4))"
      ],
      "metadata": {
        "id": "hd_JXBnvZCB4"
      },
      "execution_count": null,
      "outputs": []
    },
    {
      "cell_type": "code",
      "source": [
        "books_df = pd.DataFrame.from_dict(books_dict)\n",
        "books_df = books_df.transpose()"
      ],
      "metadata": {
        "id": "_yjY5oCYHtzc"
      },
      "execution_count": null,
      "outputs": []
    },
    {
      "cell_type": "code",
      "source": [
        "books_df.shape"
      ],
      "metadata": {
        "id": "det-BCrKHt1u",
        "colab": {
          "base_uri": "https://localhost:8080/"
        },
        "outputId": "b4776e47-5d7b-4163-aba7-1b4c4d86c1be"
      },
      "execution_count": null,
      "outputs": [
        {
          "output_type": "execute_result",
          "data": {
            "text/plain": [
              "(393561, 11)"
            ]
          },
          "metadata": {},
          "execution_count": 20
        }
      ]
    },
    {
      "cell_type": "code",
      "source": [
        "books_df"
      ],
      "metadata": {
        "colab": {
          "base_uri": "https://localhost:8080/",
          "height": 1000
        },
        "id": "vwwX8LsaV9gL",
        "outputId": "6534db8b-c5f3-4526-a256-6fad167f0fb0"
      },
      "execution_count": null,
      "outputs": [
        {
          "output_type": "execute_result",
          "data": {
            "text/plain": [
              "                Id                                              title group  \\\n",
              "0827229534       1            Patterns of Preaching: A Sermon Sampler  Book   \n",
              "0738700797       2                         Candlemas: Feast of Flames  Book   \n",
              "0486287785       3   World War II Allied Fighter Planes Trading Cards  Book   \n",
              "0842328327       4  Life Application Bible Commentary: 1 and 2 Tim...  Book   \n",
              "1577943082       5    Prayers That Avail Much for Business: Executive  Book   \n",
              "...            ...                                                ...   ...   \n",
              "9700507734  548541                           Para alcanzar el orgasmo  Book   \n",
              "9627762644  548542           Starting a Hedge Fund : A US Perspective  Book   \n",
              "0970020503  548543             Facts Every Injured Worker Should Know  Book   \n",
              "1930519206  548546                  Adobe Photoshop 6 VTC Training CD  Book   \n",
              "0879736836  548549      Catholic Bioethics and the Gift of Human Life  Book   \n",
              "\n",
              "                                                   categories  \\\n",
              "0827229534  subject religion sermon preach christian book ...   \n",
              "0738700797  spiritu subject religion witchcraft wicca book...   \n",
              "0486287785       subject hobbi home garden craft general book   \n",
              "0842328327  sacr applic general histori religion studi sub...   \n",
              "1577943082  subject religion busi devot prayerbook worship...   \n",
              "...                                                       ...   \n",
              "9700507734              bodi subject health general book mind   \n",
              "9627762644                   subject invest busi general book   \n",
              "0970020503  subject employ busi guid labor law general boo...   \n",
              "1930519206  store illustr applic comput develop subject ad...   \n",
              "0879736836  catholic subject religion social philosophi no...   \n",
              "\n",
              "                                                  connections salesrank  \\\n",
              "0827229534  0804215715 156101074X 0687023955 0687074231 08...    396585   \n",
              "0738700797  0738700827 1567184960 1567182836 0738700525 07...    168596   \n",
              "0486287785                                                      1270652   \n",
              "0842328327        0842328130 0842330313 0842328610 0842328572    631289   \n",
              "1577943082        157794349X 0892749504 1577941829 0892749563    455160   \n",
              "...                                                       ...       ...   \n",
              "9700507734                                                            0   \n",
              "9627762644                                                            0   \n",
              "0970020503                                                            0   \n",
              "1930519206                                                            0   \n",
              "0879736836                              1580510469 0896229939         0   \n",
              "\n",
              "           tot_reviews avg_rating degree_centrality clustering_coeff  \\\n",
              "0827229534           2        5.0                 0              0.8   \n",
              "0738700797          12        4.5                 0             0.85   \n",
              "0486287785           1        5.0                 0              0.0   \n",
              "0842328327           1        4.0                 0             0.79   \n",
              "1577943082           0        0.0                 0              1.0   \n",
              "...                ...        ...               ...              ...   \n",
              "9700507734           1        4.0                 0              0.0   \n",
              "9627762644           3        2.5                 0              0.0   \n",
              "0970020503           5        4.5                 0              0.0   \n",
              "1930519206           2        5.0                 0              0.0   \n",
              "0879736836           1        4.0                 0              0.0   \n",
              "\n",
              "           DegreeCentrality  \n",
              "0827229534                8  \n",
              "0738700797                9  \n",
              "0486287785                0  \n",
              "0842328327                6  \n",
              "1577943082                4  \n",
              "...                     ...  \n",
              "9700507734                0  \n",
              "9627762644                0  \n",
              "0970020503                0  \n",
              "1930519206                0  \n",
              "0879736836                6  \n",
              "\n",
              "[393561 rows x 11 columns]"
            ],
            "text/html": [
              "\n",
              "  <div id=\"df-304a8983-37b8-43b8-b74e-b74b9e13ad1c\" class=\"colab-df-container\">\n",
              "    <div>\n",
              "<style scoped>\n",
              "    .dataframe tbody tr th:only-of-type {\n",
              "        vertical-align: middle;\n",
              "    }\n",
              "\n",
              "    .dataframe tbody tr th {\n",
              "        vertical-align: top;\n",
              "    }\n",
              "\n",
              "    .dataframe thead th {\n",
              "        text-align: right;\n",
              "    }\n",
              "</style>\n",
              "<table border=\"1\" class=\"dataframe\">\n",
              "  <thead>\n",
              "    <tr style=\"text-align: right;\">\n",
              "      <th></th>\n",
              "      <th>Id</th>\n",
              "      <th>title</th>\n",
              "      <th>group</th>\n",
              "      <th>categories</th>\n",
              "      <th>connections</th>\n",
              "      <th>salesrank</th>\n",
              "      <th>tot_reviews</th>\n",
              "      <th>avg_rating</th>\n",
              "      <th>degree_centrality</th>\n",
              "      <th>clustering_coeff</th>\n",
              "      <th>DegreeCentrality</th>\n",
              "    </tr>\n",
              "  </thead>\n",
              "  <tbody>\n",
              "    <tr>\n",
              "      <th>0827229534</th>\n",
              "      <td>1</td>\n",
              "      <td>Patterns of Preaching: A Sermon Sampler</td>\n",
              "      <td>Book</td>\n",
              "      <td>subject religion sermon preach christian book ...</td>\n",
              "      <td>0804215715 156101074X 0687023955 0687074231 08...</td>\n",
              "      <td>396585</td>\n",
              "      <td>2</td>\n",
              "      <td>5.0</td>\n",
              "      <td>0</td>\n",
              "      <td>0.8</td>\n",
              "      <td>8</td>\n",
              "    </tr>\n",
              "    <tr>\n",
              "      <th>0738700797</th>\n",
              "      <td>2</td>\n",
              "      <td>Candlemas: Feast of Flames</td>\n",
              "      <td>Book</td>\n",
              "      <td>spiritu subject religion witchcraft wicca book...</td>\n",
              "      <td>0738700827 1567184960 1567182836 0738700525 07...</td>\n",
              "      <td>168596</td>\n",
              "      <td>12</td>\n",
              "      <td>4.5</td>\n",
              "      <td>0</td>\n",
              "      <td>0.85</td>\n",
              "      <td>9</td>\n",
              "    </tr>\n",
              "    <tr>\n",
              "      <th>0486287785</th>\n",
              "      <td>3</td>\n",
              "      <td>World War II Allied Fighter Planes Trading Cards</td>\n",
              "      <td>Book</td>\n",
              "      <td>subject hobbi home garden craft general book</td>\n",
              "      <td></td>\n",
              "      <td>1270652</td>\n",
              "      <td>1</td>\n",
              "      <td>5.0</td>\n",
              "      <td>0</td>\n",
              "      <td>0.0</td>\n",
              "      <td>0</td>\n",
              "    </tr>\n",
              "    <tr>\n",
              "      <th>0842328327</th>\n",
              "      <td>4</td>\n",
              "      <td>Life Application Bible Commentary: 1 and 2 Tim...</td>\n",
              "      <td>Book</td>\n",
              "      <td>sacr applic general histori religion studi sub...</td>\n",
              "      <td>0842328130 0842330313 0842328610 0842328572</td>\n",
              "      <td>631289</td>\n",
              "      <td>1</td>\n",
              "      <td>4.0</td>\n",
              "      <td>0</td>\n",
              "      <td>0.79</td>\n",
              "      <td>6</td>\n",
              "    </tr>\n",
              "    <tr>\n",
              "      <th>1577943082</th>\n",
              "      <td>5</td>\n",
              "      <td>Prayers That Avail Much for Business: Executive</td>\n",
              "      <td>Book</td>\n",
              "      <td>subject religion busi devot prayerbook worship...</td>\n",
              "      <td>157794349X 0892749504 1577941829 0892749563</td>\n",
              "      <td>455160</td>\n",
              "      <td>0</td>\n",
              "      <td>0.0</td>\n",
              "      <td>0</td>\n",
              "      <td>1.0</td>\n",
              "      <td>4</td>\n",
              "    </tr>\n",
              "    <tr>\n",
              "      <th>...</th>\n",
              "      <td>...</td>\n",
              "      <td>...</td>\n",
              "      <td>...</td>\n",
              "      <td>...</td>\n",
              "      <td>...</td>\n",
              "      <td>...</td>\n",
              "      <td>...</td>\n",
              "      <td>...</td>\n",
              "      <td>...</td>\n",
              "      <td>...</td>\n",
              "      <td>...</td>\n",
              "    </tr>\n",
              "    <tr>\n",
              "      <th>9700507734</th>\n",
              "      <td>548541</td>\n",
              "      <td>Para alcanzar el orgasmo</td>\n",
              "      <td>Book</td>\n",
              "      <td>bodi subject health general book mind</td>\n",
              "      <td></td>\n",
              "      <td>0</td>\n",
              "      <td>1</td>\n",
              "      <td>4.0</td>\n",
              "      <td>0</td>\n",
              "      <td>0.0</td>\n",
              "      <td>0</td>\n",
              "    </tr>\n",
              "    <tr>\n",
              "      <th>9627762644</th>\n",
              "      <td>548542</td>\n",
              "      <td>Starting a Hedge Fund : A US Perspective</td>\n",
              "      <td>Book</td>\n",
              "      <td>subject invest busi general book</td>\n",
              "      <td></td>\n",
              "      <td>0</td>\n",
              "      <td>3</td>\n",
              "      <td>2.5</td>\n",
              "      <td>0</td>\n",
              "      <td>0.0</td>\n",
              "      <td>0</td>\n",
              "    </tr>\n",
              "    <tr>\n",
              "      <th>0970020503</th>\n",
              "      <td>548543</td>\n",
              "      <td>Facts Every Injured Worker Should Know</td>\n",
              "      <td>Book</td>\n",
              "      <td>subject employ busi guid labor law general boo...</td>\n",
              "      <td></td>\n",
              "      <td>0</td>\n",
              "      <td>5</td>\n",
              "      <td>4.5</td>\n",
              "      <td>0</td>\n",
              "      <td>0.0</td>\n",
              "      <td>0</td>\n",
              "    </tr>\n",
              "    <tr>\n",
              "      <th>1930519206</th>\n",
              "      <td>548546</td>\n",
              "      <td>Adobe Photoshop 6 VTC Training CD</td>\n",
              "      <td>Book</td>\n",
              "      <td>store illustr applic comput develop subject ad...</td>\n",
              "      <td></td>\n",
              "      <td>0</td>\n",
              "      <td>2</td>\n",
              "      <td>5.0</td>\n",
              "      <td>0</td>\n",
              "      <td>0.0</td>\n",
              "      <td>0</td>\n",
              "    </tr>\n",
              "    <tr>\n",
              "      <th>0879736836</th>\n",
              "      <td>548549</td>\n",
              "      <td>Catholic Bioethics and the Gift of Human Life</td>\n",
              "      <td>Book</td>\n",
              "      <td>catholic subject religion social philosophi no...</td>\n",
              "      <td>1580510469 0896229939</td>\n",
              "      <td>0</td>\n",
              "      <td>1</td>\n",
              "      <td>4.0</td>\n",
              "      <td>0</td>\n",
              "      <td>0.0</td>\n",
              "      <td>6</td>\n",
              "    </tr>\n",
              "  </tbody>\n",
              "</table>\n",
              "<p>393561 rows × 11 columns</p>\n",
              "</div>\n",
              "    <div class=\"colab-df-buttons\">\n",
              "\n",
              "  <div class=\"colab-df-container\">\n",
              "    <button class=\"colab-df-convert\" onclick=\"convertToInteractive('df-304a8983-37b8-43b8-b74e-b74b9e13ad1c')\"\n",
              "            title=\"Convert this dataframe to an interactive table.\"\n",
              "            style=\"display:none;\">\n",
              "\n",
              "  <svg xmlns=\"http://www.w3.org/2000/svg\" height=\"24px\" viewBox=\"0 -960 960 960\">\n",
              "    <path d=\"M120-120v-720h720v720H120Zm60-500h600v-160H180v160Zm220 220h160v-160H400v160Zm0 220h160v-160H400v160ZM180-400h160v-160H180v160Zm440 0h160v-160H620v160ZM180-180h160v-160H180v160Zm440 0h160v-160H620v160Z\"/>\n",
              "  </svg>\n",
              "    </button>\n",
              "\n",
              "  <style>\n",
              "    .colab-df-container {\n",
              "      display:flex;\n",
              "      gap: 12px;\n",
              "    }\n",
              "\n",
              "    .colab-df-convert {\n",
              "      background-color: #E8F0FE;\n",
              "      border: none;\n",
              "      border-radius: 50%;\n",
              "      cursor: pointer;\n",
              "      display: none;\n",
              "      fill: #1967D2;\n",
              "      height: 32px;\n",
              "      padding: 0 0 0 0;\n",
              "      width: 32px;\n",
              "    }\n",
              "\n",
              "    .colab-df-convert:hover {\n",
              "      background-color: #E2EBFA;\n",
              "      box-shadow: 0px 1px 2px rgba(60, 64, 67, 0.3), 0px 1px 3px 1px rgba(60, 64, 67, 0.15);\n",
              "      fill: #174EA6;\n",
              "    }\n",
              "\n",
              "    .colab-df-buttons div {\n",
              "      margin-bottom: 4px;\n",
              "    }\n",
              "\n",
              "    [theme=dark] .colab-df-convert {\n",
              "      background-color: #3B4455;\n",
              "      fill: #D2E3FC;\n",
              "    }\n",
              "\n",
              "    [theme=dark] .colab-df-convert:hover {\n",
              "      background-color: #434B5C;\n",
              "      box-shadow: 0px 1px 3px 1px rgba(0, 0, 0, 0.15);\n",
              "      filter: drop-shadow(0px 1px 2px rgba(0, 0, 0, 0.3));\n",
              "      fill: #FFFFFF;\n",
              "    }\n",
              "  </style>\n",
              "\n",
              "    <script>\n",
              "      const buttonEl =\n",
              "        document.querySelector('#df-304a8983-37b8-43b8-b74e-b74b9e13ad1c button.colab-df-convert');\n",
              "      buttonEl.style.display =\n",
              "        google.colab.kernel.accessAllowed ? 'block' : 'none';\n",
              "\n",
              "      async function convertToInteractive(key) {\n",
              "        const element = document.querySelector('#df-304a8983-37b8-43b8-b74e-b74b9e13ad1c');\n",
              "        const dataTable =\n",
              "          await google.colab.kernel.invokeFunction('convertToInteractive',\n",
              "                                                    [key], {});\n",
              "        if (!dataTable) return;\n",
              "\n",
              "        const docLinkHtml = 'Like what you see? Visit the ' +\n",
              "          '<a target=\"_blank\" href=https://colab.research.google.com/notebooks/data_table.ipynb>data table notebook</a>'\n",
              "          + ' to learn more about interactive tables.';\n",
              "        element.innerHTML = '';\n",
              "        dataTable['output_type'] = 'display_data';\n",
              "        await google.colab.output.renderOutput(dataTable, element);\n",
              "        const docLink = document.createElement('div');\n",
              "        docLink.innerHTML = docLinkHtml;\n",
              "        element.appendChild(docLink);\n",
              "      }\n",
              "    </script>\n",
              "  </div>\n",
              "\n",
              "\n",
              "<div id=\"df-01256015-03ad-4f15-b1e1-dcc91b9bf9fd\">\n",
              "  <button class=\"colab-df-quickchart\" onclick=\"quickchart('df-01256015-03ad-4f15-b1e1-dcc91b9bf9fd')\"\n",
              "            title=\"Suggest charts.\"\n",
              "            style=\"display:none;\">\n",
              "\n",
              "<svg xmlns=\"http://www.w3.org/2000/svg\" height=\"24px\"viewBox=\"0 0 24 24\"\n",
              "     width=\"24px\">\n",
              "    <g>\n",
              "        <path d=\"M19 3H5c-1.1 0-2 .9-2 2v14c0 1.1.9 2 2 2h14c1.1 0 2-.9 2-2V5c0-1.1-.9-2-2-2zM9 17H7v-7h2v7zm4 0h-2V7h2v10zm4 0h-2v-4h2v4z\"/>\n",
              "    </g>\n",
              "</svg>\n",
              "  </button>\n",
              "\n",
              "<style>\n",
              "  .colab-df-quickchart {\n",
              "      --bg-color: #E8F0FE;\n",
              "      --fill-color: #1967D2;\n",
              "      --hover-bg-color: #E2EBFA;\n",
              "      --hover-fill-color: #174EA6;\n",
              "      --disabled-fill-color: #AAA;\n",
              "      --disabled-bg-color: #DDD;\n",
              "  }\n",
              "\n",
              "  [theme=dark] .colab-df-quickchart {\n",
              "      --bg-color: #3B4455;\n",
              "      --fill-color: #D2E3FC;\n",
              "      --hover-bg-color: #434B5C;\n",
              "      --hover-fill-color: #FFFFFF;\n",
              "      --disabled-bg-color: #3B4455;\n",
              "      --disabled-fill-color: #666;\n",
              "  }\n",
              "\n",
              "  .colab-df-quickchart {\n",
              "    background-color: var(--bg-color);\n",
              "    border: none;\n",
              "    border-radius: 50%;\n",
              "    cursor: pointer;\n",
              "    display: none;\n",
              "    fill: var(--fill-color);\n",
              "    height: 32px;\n",
              "    padding: 0;\n",
              "    width: 32px;\n",
              "  }\n",
              "\n",
              "  .colab-df-quickchart:hover {\n",
              "    background-color: var(--hover-bg-color);\n",
              "    box-shadow: 0 1px 2px rgba(60, 64, 67, 0.3), 0 1px 3px 1px rgba(60, 64, 67, 0.15);\n",
              "    fill: var(--button-hover-fill-color);\n",
              "  }\n",
              "\n",
              "  .colab-df-quickchart-complete:disabled,\n",
              "  .colab-df-quickchart-complete:disabled:hover {\n",
              "    background-color: var(--disabled-bg-color);\n",
              "    fill: var(--disabled-fill-color);\n",
              "    box-shadow: none;\n",
              "  }\n",
              "\n",
              "  .colab-df-spinner {\n",
              "    border: 2px solid var(--fill-color);\n",
              "    border-color: transparent;\n",
              "    border-bottom-color: var(--fill-color);\n",
              "    animation:\n",
              "      spin 1s steps(1) infinite;\n",
              "  }\n",
              "\n",
              "  @keyframes spin {\n",
              "    0% {\n",
              "      border-color: transparent;\n",
              "      border-bottom-color: var(--fill-color);\n",
              "      border-left-color: var(--fill-color);\n",
              "    }\n",
              "    20% {\n",
              "      border-color: transparent;\n",
              "      border-left-color: var(--fill-color);\n",
              "      border-top-color: var(--fill-color);\n",
              "    }\n",
              "    30% {\n",
              "      border-color: transparent;\n",
              "      border-left-color: var(--fill-color);\n",
              "      border-top-color: var(--fill-color);\n",
              "      border-right-color: var(--fill-color);\n",
              "    }\n",
              "    40% {\n",
              "      border-color: transparent;\n",
              "      border-right-color: var(--fill-color);\n",
              "      border-top-color: var(--fill-color);\n",
              "    }\n",
              "    60% {\n",
              "      border-color: transparent;\n",
              "      border-right-color: var(--fill-color);\n",
              "    }\n",
              "    80% {\n",
              "      border-color: transparent;\n",
              "      border-right-color: var(--fill-color);\n",
              "      border-bottom-color: var(--fill-color);\n",
              "    }\n",
              "    90% {\n",
              "      border-color: transparent;\n",
              "      border-bottom-color: var(--fill-color);\n",
              "    }\n",
              "  }\n",
              "</style>\n",
              "\n",
              "  <script>\n",
              "    async function quickchart(key) {\n",
              "      const quickchartButtonEl =\n",
              "        document.querySelector('#' + key + ' button');\n",
              "      quickchartButtonEl.disabled = true;  // To prevent multiple clicks.\n",
              "      quickchartButtonEl.classList.add('colab-df-spinner');\n",
              "      try {\n",
              "        const charts = await google.colab.kernel.invokeFunction(\n",
              "            'suggestCharts', [key], {});\n",
              "      } catch (error) {\n",
              "        console.error('Error during call to suggestCharts:', error);\n",
              "      }\n",
              "      quickchartButtonEl.classList.remove('colab-df-spinner');\n",
              "      quickchartButtonEl.classList.add('colab-df-quickchart-complete');\n",
              "    }\n",
              "    (() => {\n",
              "      let quickchartButtonEl =\n",
              "        document.querySelector('#df-01256015-03ad-4f15-b1e1-dcc91b9bf9fd button');\n",
              "      quickchartButtonEl.style.display =\n",
              "        google.colab.kernel.accessAllowed ? 'block' : 'none';\n",
              "    })();\n",
              "  </script>\n",
              "</div>\n",
              "    </div>\n",
              "  </div>\n"
            ]
          },
          "metadata": {},
          "execution_count": 21
        }
      ]
    },
    {
      "cell_type": "code",
      "source": [
        "books_df.to_csv(\"books_preprocessed.csv\")"
      ],
      "metadata": {
        "id": "GuR9L31NHt3z"
      },
      "execution_count": null,
      "outputs": []
    },
    {
      "cell_type": "code",
      "source": [],
      "metadata": {
        "id": "m8ypCQwiHt5r"
      },
      "execution_count": null,
      "outputs": []
    },
    {
      "cell_type": "code",
      "source": [],
      "metadata": {
        "id": "DueNiwaGHt8A"
      },
      "execution_count": null,
      "outputs": []
    },
    {
      "cell_type": "code",
      "source": [],
      "metadata": {
        "id": "ypypsFIVHt-F"
      },
      "execution_count": null,
      "outputs": []
    },
    {
      "cell_type": "code",
      "source": [],
      "metadata": {
        "id": "8jstkXsFHuAc"
      },
      "execution_count": null,
      "outputs": []
    },
    {
      "cell_type": "code",
      "source": [],
      "metadata": {
        "id": "fWl_jxxBHuCx"
      },
      "execution_count": null,
      "outputs": []
    },
    {
      "cell_type": "code",
      "source": [],
      "metadata": {
        "id": "WcGdhDSAHuE2"
      },
      "execution_count": null,
      "outputs": []
    },
    {
      "cell_type": "code",
      "source": [],
      "metadata": {
        "id": "8exikk-JHuHP"
      },
      "execution_count": null,
      "outputs": []
    },
    {
      "cell_type": "code",
      "source": [],
      "metadata": {
        "id": "d9sOQk4rHuJy"
      },
      "execution_count": null,
      "outputs": []
    },
    {
      "cell_type": "code",
      "source": [],
      "metadata": {
        "id": "lK4EjzK8HuMJ"
      },
      "execution_count": null,
      "outputs": []
    },
    {
      "cell_type": "code",
      "source": [],
      "metadata": {
        "id": "mYyg2beRHuOe"
      },
      "execution_count": null,
      "outputs": []
    },
    {
      "cell_type": "code",
      "source": [],
      "metadata": {
        "id": "IFJcp7Z_HuQ1"
      },
      "execution_count": null,
      "outputs": []
    },
    {
      "cell_type": "code",
      "source": [],
      "metadata": {
        "id": "Is2jXtfrHuS6"
      },
      "execution_count": null,
      "outputs": []
    },
    {
      "cell_type": "code",
      "source": [],
      "metadata": {
        "id": "rQN4GufuHuVQ"
      },
      "execution_count": null,
      "outputs": []
    },
    {
      "cell_type": "markdown",
      "source": [
        "## Unmount"
      ],
      "metadata": {
        "id": "QNI5iDYFHzjI"
      }
    },
    {
      "cell_type": "code",
      "execution_count": null,
      "metadata": {
        "id": "dejazyBe41og"
      },
      "outputs": [],
      "source": [
        "drive.flush_and_unmount()\n"
      ]
    }
  ],
  "metadata": {
    "colab": {
      "provenance": [],
      "collapsed_sections": [
        "QNI5iDYFHzjI"
      ],
      "gpuType": "T4"
    },
    "kernelspec": {
      "display_name": "Python 3",
      "name": "python3"
    },
    "language_info": {
      "name": "python"
    },
    "accelerator": "GPU"
  },
  "nbformat": 4,
  "nbformat_minor": 0
}